{
 "cells": [
  {
   "cell_type": "code",
   "execution_count": 8,
   "metadata": {},
   "outputs": [],
   "source": [
    "from luzer import *\n",
    "import sys"
   ]
  },
  {
   "cell_type": "code",
   "execution_count": 28,
   "id": "1703c7aa",
   "metadata": {},
   "outputs": [
    {
     "name": "stdout",
     "output_type": "stream",
     "text": [
      "[+] Authenticated\n"
     ]
    }
   ],
   "source": [
    "sys.argv = ['pasten', '/Users/ssaroussi/Documents/Development/luzer/config.json']\n",
    "config = parse_config()\n",
    "\n",
    "service = Service(SCOPES, config)\n",
    "\n",
    "shadow_meta = namedtuple('shadow_meta', ('name', 'id'))\n",
    "markings_to_shadows = {shadow['marking']: shadow_meta(shadow['name'], shadow['id']) for shadow in config['shadow_calendars']}"
   ]
  },
  {
   "cell_type": "code",
   "execution_count": 16,
   "id": "96db952f",
   "metadata": {},
   "outputs": [
    {
     "name": "stdout",
     "output_type": "stream",
     "text": [
      "[+] Working on week date_range(start=datetime.date(2022, 10, 23), end=datetime.date(2022, 10, 29))\n"
     ]
    }
   ],
   "source": [
    "this_week = get_week_range()\n",
    "print(f'[+] Working on week {this_week}')"
   ]
  },
  {
   "cell_type": "code",
   "execution_count": 74,
   "id": "1766bbed",
   "metadata": {},
   "outputs": [
    {
     "name": "stdout",
     "output_type": "stream",
     "text": [
      "[+] Got 2 events in the current week\n"
     ]
    },
    {
     "data": {
      "text/plain": [
       "{'#1': shadow_meta(name='shadow_1_test', id='d6b667b60c0a03b5227c3e04b98841cd756529f16acbb31c73f92bb65d0eddcc@group.calendar.google.com')}"
      ]
     },
     "execution_count": 74,
     "metadata": {},
     "output_type": "execute_result"
    }
   ],
   "source": [
    "events = service.get_events(config['master_id'], dates=this_week)\n",
    "print(f'[+] Got {len(events)} events in the current week')\n",
    "markings_to_shadows"
   ]
  },
  {
   "cell_type": "code",
   "execution_count": 77,
   "id": "83486a67",
   "metadata": {},
   "outputs": [
    {
     "name": "stdout",
     "output_type": "stream",
     "text": [
      "[-] Event 7kj7cshrhau8ptgks61h29e2at does not contain summary\n",
      "COPING\n",
      "{'kind': 'calendar#event', 'etag': '\"3333622609319000\"', 'id': '3hopaa9v4qep3crj8ovji3jh5t', 'status': 'confirmed', 'htmlLink': 'https://www.google.com/calendar/event?eid=M2hvcGFhOXY0cWVwM2NyajhvdmppM2poNXQgbjNvb2hkZ3RrNWQ4aGFnZmtxdTE0NjZqZTRAZw', 'created': '2022-10-26T19:03:12.000Z', 'updated': '2022-10-26T19:13:22.879Z', 'summary': 'LMAP', 'description': '#1', 'creator': {'email': 'amitnroll@gmail.com'}, 'organizer': {'email': 'n3oohdgtk5d8hagfkqu1466je4@group.calendar.google.com', 'displayName': 'Time Tracking', 'self': True}, 'start': {'date': '2022-10-28'}, 'end': {'date': '2022-10-29'}, 'transparency': 'transparent', 'iCalUID': '3hopaa9v4qep3crj8ovji3jh5t@google.com', 'sequence': 0, 'reminders': {'useDefault': False}, 'eventType': 'default'}\n",
      "[+] Copying LMAP to shadow_1_test\n"
     ]
    }
   ],
   "source": [
    "for event in events:\n",
    "    if event.get('summary', None) is None:\n",
    "        print(f'[-] Event {event[\"id\"]} does not contain summary')\n",
    "        continue\n",
    "    \n",
    "    for marking, shadow in markings_to_shadows.items():\n",
    "        if marking in event.get('description', ''):\n",
    "            print('COPING')\n",
    "            print(event)\n",
    "            print(f'[+] Copying {event[\"summary\"]} to {shadow.name}')\n",
    "            service.create_event(shadow.id, copy_event(event))"
   ]
  }
 ],
 "metadata": {
  "kernelspec": {
   "display_name": "Python 3.9.7 64-bit ('anaconda3')",
   "language": "python",
   "name": "python3"
  },
  "language_info": {
   "codemirror_mode": {
    "name": "ipython",
    "version": 3
   },
   "file_extension": ".py",
   "mimetype": "text/x-python",
   "name": "python",
   "nbconvert_exporter": "python",
   "pygments_lexer": "ipython3",
   "version": "3.9.7"
  },
  "vscode": {
   "interpreter": {
    "hash": "a43979cf844f0644155be05c27128b151dab9b61220264de26753e9659114dc9"
   }
  }
 },
 "nbformat": 4,
 "nbformat_minor": 5
}
