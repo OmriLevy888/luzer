{
 "cells": [
  {
   "cell_type": "code",
   "execution_count": 2,
   "metadata": {},
   "outputs": [],
   "source": [
    "from luzer import *\n",
    "\n",
    "import sys"
   ]
  },
  {
   "cell_type": "code",
   "execution_count": 3,
   "id": "1703c7aa",
   "metadata": {},
   "outputs": [
    {
     "name": "stdout",
     "output_type": "stream",
     "text": [
      "[+] Authenticated\n"
     ]
    }
   ],
   "source": [
    "sys.argv = ['pasten', '/Users/ssaroussi/Documents/Development/luzer/config.json']\n",
    "config = parse_config()\n",
    "\n",
    "service = Service(SCOPES, config)\n",
    "\n",
    "shadow_meta = namedtuple('shadow_meta', ('name', 'id'))\n",
    "markings_to_shadows = {shadow['marking']: shadow_meta(shadow['name'], shadow['id']) for shadow in config['shadow_calendars']}"
   ]
  },
  {
   "cell_type": "code",
   "execution_count": 4,
   "id": "96db952f",
   "metadata": {},
   "outputs": [
    {
     "name": "stdout",
     "output_type": "stream",
     "text": [
      "[+] Working on week date_range(start=datetime.date(2022, 10, 23), end=datetime.date(2022, 10, 29))\n"
     ]
    }
   ],
   "source": [
    "this_week = get_week_range()\n",
    "print(f'[+] Working on week {this_week}')"
   ]
  },
  {
   "cell_type": "code",
   "execution_count": 10,
   "id": "83486a67",
   "metadata": {},
   "outputs": [],
   "source": [
    "master_ics = ICS(ics_path=r'/Users/ssaroussi/Documents/Development/luzer/tt.ics')\n",
    "master_events = master_ics.get_luzer_events(this_week)\n",
    "for event in master_events:\n",
    "    if event.get('summary', None) is None:\n",
    "        print(f'[-] Event {event} does not contain summery')\n",
    "\n",
    "    for marking, shadow in markings_to_shadows.items():\n",
    "        if marking in event.get('description', ''):\n",
    "            print(f'[+] Copying {event[\"summary\"]} to {shadow.name}')\n",
    "            service.create_event(shadow.id, copy_event(event))"
   ]
  },
  {
   "cell_type": "code",
   "execution_count": 11,
   "id": "6b7cbdda",
   "metadata": {},
   "outputs": [
    {
     "data": {
      "text/plain": [
       "{'summary': 'LMAP',\n",
       " 'start': datetime.datetime(2022, 10, 28, 0, 0, tzinfo=tzutc()),\n",
       " 'end': datetime.datetime(2022, 10, 29, 0, 0, tzinfo=tzutc()),\n",
       " 'location': ''}"
      ]
     },
     "execution_count": 11,
     "metadata": {},
     "output_type": "execute_result"
    }
   ],
   "source": [
    "master_events = master_ics.get_luzer_events(this_week)\n",
    "e = list(master_events)[0]\n",
    "e"
   ]
  }
 ],
 "metadata": {
  "kernelspec": {
   "display_name": "Python 3.9.7 64-bit ('anaconda3')",
   "language": "python",
   "name": "python3"
  },
  "language_info": {
   "codemirror_mode": {
    "name": "ipython",
    "version": 3
   },
   "file_extension": ".py",
   "mimetype": "text/x-python",
   "name": "python",
   "nbconvert_exporter": "python",
   "pygments_lexer": "ipython3",
   "version": "3.9.7"
  },
  "vscode": {
   "interpreter": {
    "hash": "a43979cf844f0644155be05c27128b151dab9b61220264de26753e9659114dc9"
   }
  }
 },
 "nbformat": 4,
 "nbformat_minor": 5
}
